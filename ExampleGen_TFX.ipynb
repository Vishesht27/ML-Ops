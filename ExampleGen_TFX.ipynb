{
  "nbformat": 4,
  "nbformat_minor": 0,
  "metadata": {
    "colab": {
      "name": "The-ExampleGen.ipynb",
      "provenance": []
    },
    "kernelspec": {
      "name": "python3",
      "display_name": "Python 3"
    },
    "language_info": {
      "name": "python"
    },
    "accelerator": "GPU"
  },
  "cells": [
    {
      "cell_type": "markdown",
      "source": [
        "## The ExampleGen TFX Pipeline Component\n"
      ],
      "metadata": {
        "id": "hHiOHK0UmfPh"
      }
    },
    {
      "cell_type": "markdown",
      "source": [
        "The ExampleGen TFX Pipeline component ingests data into TFX pipelines. It consumes external files/services to generate Examples which will be read by other TFX components. It also provides consistent and configurable partition, and shuffles the dataset for ML best practice."
      ],
      "metadata": {
        "id": "_ze2RhsJnU02"
      }
    },
    {
      "cell_type": "markdown",
      "source": [
        "Consumes: Data from external data sources such as CSV, TFRecord, Avro, Parquet and BigQuery.\n",
        "\n",
        "Emits: tf.Example records, tf.SequenceExample records, or proto format, depending on the payload format."
      ],
      "metadata": {
        "id": "sBP4i1qSnbRr"
      }
    },
    {
      "cell_type": "markdown",
      "source": [
        "![tfx](https://www.tensorflow.org/tfx/guide/images/prog_evaluator.png)"
      ],
      "metadata": {
        "id": "5Dd_-H1en2yM"
      }
    },
    {
      "cell_type": "markdown",
      "source": [
        "### ExampleGen and Other Components"
      ],
      "metadata": {
        "id": "9D11GTPFnjiN"
      }
    },
    {
      "cell_type": "markdown",
      "source": [
        "ExampleGen provides data to components that make use of the TensorFlow Data Validation library, such as SchemaGen, StatisticsGen, and Example Validator. It also provides data to Transform, which makes use of the TensorFlow Transform library, and ultimately to deployment targets during inference."
      ],
      "metadata": {
        "id": "SEsSlwwznmrN"
      }
    },
    {
      "cell_type": "markdown",
      "source": [
        "### How to use an ExampleGen Component"
      ],
      "metadata": {
        "id": "gvbQhUsRogsn"
      }
    },
    {
      "cell_type": "markdown",
      "source": [
        "For supported data sources (currently, CSV files, TFRecord files with tf.Example, tf.SequenceExample and proto format, and results of BigQuery queries) the ExampleGen pipeline component can be used directly in deploy and requires little customization. For example:\n",
        "\n",
        "\n",
        "\n",
        "```\n",
        "example_gen = CsvExampleGen(input_base='data_root')\n",
        "```\n",
        "\n",
        "or like below for importing external TFRecord with tf.Example directly:\n",
        "\n",
        "\n",
        "\n",
        "```\n",
        "example_gen = ImportExampleGen(input_base=path_to_tfrecord_dir)\n",
        "```\n",
        "\n",
        "\n",
        "\n"
      ],
      "metadata": {
        "id": "DN68HO1QomdH"
      }
    },
    {
      "cell_type": "markdown",
      "source": [
        "***Install TFX  & Importing Packages***"
      ],
      "metadata": {
        "id": "QBQc8FAAo6hr"
      }
    },
    {
      "cell_type": "code",
      "execution_count": null,
      "metadata": {
        "id": "TXRgv4FrmY2d"
      },
      "outputs": [],
      "source": [
        "! pip install -U tfx"
      ]
    },
    {
      "cell_type": "code",
      "source": [
        "import os\n",
        "import pprint\n",
        "import tempfile\n",
        "import urllib\n",
        "\n",
        "import absl\n",
        "import tensorflow as tf\n",
        "import tensorflow_model_analysis as tfma\n",
        "tf.get_logger().propagate = False\n",
        "pp = pprint.PrettyPrinter()\n",
        "\n",
        "from tfx import v1 as tfx\n",
        "from tfx.orchestration.experimental.interactive.interactive_context import InteractiveContext\n",
        "\n",
        "%load_ext tfx.orchestration.experimental.interactive.notebook_extensions.skip"
      ],
      "metadata": {
        "colab": {
          "base_uri": "https://localhost:8080/"
        },
        "id": "F_5YnET6pOl4",
        "outputId": "3a8b767e-e3bb-4c6f-df50-15448c1bd614"
      },
      "execution_count": null,
      "outputs": [
        {
          "output_type": "stream",
          "name": "stdout",
          "text": [
            "The tfx.orchestration.experimental.interactive.notebook_extensions.skip extension is already loaded. To reload it, use:\n",
            "  %reload_ext tfx.orchestration.experimental.interactive.notebook_extensions.skip\n"
          ]
        }
      ]
    },
    {
      "cell_type": "markdown",
      "source": [
        "***Libraries Version***"
      ],
      "metadata": {
        "id": "JkI83vcqpV5T"
      }
    },
    {
      "cell_type": "code",
      "source": [
        "print('TensorFlow version: {}'.format(tf.__version__))\n",
        "print('TFX version: {}'.format(tfx.__version__))"
      ],
      "metadata": {
        "colab": {
          "base_uri": "https://localhost:8080/"
        },
        "id": "v8vD4MekpZ1F",
        "outputId": "1b209bdf-3faa-471d-fded-baa47d701a5f"
      },
      "execution_count": null,
      "outputs": [
        {
          "output_type": "stream",
          "name": "stdout",
          "text": [
            "TensorFlow version: 2.7.0\n",
            "TFX version: 1.5.0\n"
          ]
        }
      ]
    },
    {
      "cell_type": "markdown",
      "source": [
        "***Set up pipeline paths***"
      ],
      "metadata": {
        "id": "VkUN0V6tpaak"
      }
    },
    {
      "cell_type": "code",
      "source": [
        "# This is the root directory for your TFX pip package installation.\n",
        "_tfx_root = tfx.__path__[0]\n",
        "\n",
        "# This is the directory containing the TFX Chicago Taxi Pipeline example.\n",
        "_taxi_root = os.path.join(_tfx_root, 'examples/chicago_taxi_pipeline')\n",
        "\n",
        "# This is the path where your model will be pushed for serving.\n",
        "_serving_model_dir = os.path.join(\n",
        "    tempfile.mkdtemp(), 'serving_model/taxi_simple')\n",
        "\n",
        "# Set up logging.\n",
        "absl.logging.set_verbosity(absl.logging.INFO)"
      ],
      "metadata": {
        "id": "YnbHB97xpiKj"
      },
      "execution_count": null,
      "outputs": []
    },
    {
      "cell_type": "markdown",
      "source": [
        "### Download example data\n",
        "We download the example dataset for use in our TFX pipeline.\n",
        "\n",
        "The dataset we're using is the [Taxi Trips dataset](https://data.cityofchicago.org/Transportation/Taxi-Trips/wrvz-psew) released by the City of Chicago. The columns in this dataset are:\n",
        "\n",
        "<table>\n",
        "<tr><td>pickup_community_area</td><td>fare</td><td>trip_start_month</td></tr>\n",
        "<tr><td>trip_start_hour</td><td>trip_start_day</td><td>trip_start_timestamp</td></tr>\n",
        "<tr><td>pickup_latitude</td><td>pickup_longitude</td><td>dropoff_latitude</td></tr>\n",
        "<tr><td>dropoff_longitude</td><td>trip_miles</td><td>pickup_census_tract</td></tr>\n",
        "<tr><td>dropoff_census_tract</td><td>payment_type</td><td>company</td></tr>\n",
        "<tr><td>trip_seconds</td><td>dropoff_community_area</td><td>tips</td></tr>\n",
        "</table>\n",
        "\n",
        "With this dataset, we will build a model that predicts the `tips` of a trip."
      ],
      "metadata": {
        "id": "tq8-_89Ypo6B"
      }
    },
    {
      "cell_type": "code",
      "source": [
        "_data_root = tempfile.mkdtemp(prefix='tfx-data')\n",
        "DATA_PATH = 'https://raw.githubusercontent.com/tensorflow/tfx/master/tfx/examples/chicago_taxi_pipeline/data/simple/data.csv'\n",
        "_data_filepath = os.path.join(_data_root, \"data.csv\")\n",
        "urllib.request.urlretrieve(DATA_PATH, _data_filepath)"
      ],
      "metadata": {
        "colab": {
          "base_uri": "https://localhost:8080/"
        },
        "id": "O_Oo5Vb8prUf",
        "outputId": "a5ceb1cc-5592-4d56-cce1-953b23603faf"
      },
      "execution_count": null,
      "outputs": [
        {
          "output_type": "execute_result",
          "data": {
            "text/plain": [
              "('/tmp/tfx-datadtjogctw/data.csv', <http.client.HTTPMessage at 0x7f40e377a490>)"
            ]
          },
          "metadata": {},
          "execution_count": 15
        }
      ]
    },
    {
      "cell_type": "markdown",
      "source": [
        "*Take* a quick look at the CSV file."
      ],
      "metadata": {
        "id": "aWdVrjQypt1c"
      }
    },
    {
      "cell_type": "code",
      "source": [
        "!head {_data_filepath}"
      ],
      "metadata": {
        "colab": {
          "base_uri": "https://localhost:8080/"
        },
        "id": "IjxxQPShpuxv",
        "outputId": "2199bc26-f77e-4fef-d194-3ffa4c4b6d76"
      },
      "execution_count": null,
      "outputs": [
        {
          "output_type": "stream",
          "name": "stdout",
          "text": [
            "pickup_community_area,fare,trip_start_month,trip_start_hour,trip_start_day,trip_start_timestamp,pickup_latitude,pickup_longitude,dropoff_latitude,dropoff_longitude,trip_miles,pickup_census_tract,dropoff_census_tract,payment_type,company,trip_seconds,dropoff_community_area,tips\n",
            ",12.45,5,19,6,1400269500,,,,,0.0,,,Credit Card,Chicago Elite Cab Corp. (Chicago Carriag,0,,0.0\n",
            ",0,3,19,5,1362683700,,,,,0,,,Unknown,Chicago Elite Cab Corp.,300,,0\n",
            "60,27.05,10,2,3,1380593700,41.836150155,-87.648787952,,,12.6,,,Cash,Taxi Affiliation Services,1380,,0.0\n",
            "10,5.85,10,1,2,1382319000,41.985015101,-87.804532006,,,0.0,,,Cash,Taxi Affiliation Services,180,,0.0\n",
            "14,16.65,5,7,5,1369897200,41.968069,-87.721559063,,,0.0,,,Cash,Dispatch Taxi Affiliation,1080,,0.0\n",
            "13,16.45,11,12,3,1446554700,41.983636307,-87.723583185,,,6.9,,,Cash,,780,,0.0\n",
            "16,32.05,12,1,1,1417916700,41.953582125,-87.72345239,,,15.4,,,Cash,,1200,,0.0\n",
            "30,38.45,10,10,5,1444301100,41.839086906,-87.714003807,,,14.6,,,Cash,,2580,,0.0\n",
            "11,14.65,1,1,3,1358213400,41.978829526,-87.771166703,,,5.81,,,Cash,,1080,,0.0\n"
          ]
        }
      ]
    },
    {
      "cell_type": "markdown",
      "source": [
        "### Create the InteractiveContext\n",
        "Last, we create an InteractiveContext, which will allow us to run TFX components interactively in this notebook."
      ],
      "metadata": {
        "id": "sTH2FZ0Gp3cD"
      }
    },
    {
      "cell_type": "code",
      "source": [
        "context = InteractiveContext()"
      ],
      "metadata": {
        "colab": {
          "base_uri": "https://localhost:8080/"
        },
        "id": "BMLuJeIop4EB",
        "outputId": "5885721e-86d2-424a-acb0-ab4d9efc3e30"
      },
      "execution_count": null,
      "outputs": [
        {
          "output_type": "stream",
          "name": "stderr",
          "text": [
            "WARNING:absl:InteractiveContext pipeline_root argument not provided: using temporary directory /tmp/tfx-interactive-2022-01-09T07_22_58.217523-d5ysx84l as root for pipeline outputs.\n",
            "WARNING:absl:InteractiveContext metadata_connection_config not provided: using SQLite ML Metadata database at /tmp/tfx-interactive-2022-01-09T07_22_58.217523-d5ysx84l/metadata.sqlite.\n"
          ]
        }
      ]
    },
    {
      "cell_type": "markdown",
      "source": [
        "### ExampleGen\n",
        "\n",
        "The `ExampleGen` component is usually at the start of a TFX pipeline. It will:\n",
        "\n",
        "1.   Split data into training and evaluation sets (by default, 2/3 training + 1/3 eval)\n",
        "2.   Convert data into the `tf.Example` format (learn more [here](https://www.tensorflow.org/tutorials/load_data/tfrecord))\n",
        "3.   Copy data into the `_tfx_root` directory for other components to access\n",
        "\n",
        "`ExampleGen` takes as input the path to your data source. In our case, this is the `_data_root` path that contains the downloaded CSV.\n",
        "\n",
        "Note: In this notebook, we can instantiate components one-by-one and run them with `InteractiveContext.run()`. By contrast, in a production setting, we would specify all the components upfront in a `Pipeline` to pass to the orchestrator (see the [Building a TFX Pipeline Guide](https://www.tensorflow.org/tfx/guide/build_tfx_pipeline))."
      ],
      "metadata": {
        "id": "XIZn9tFVp_4c"
      }
    },
    {
      "cell_type": "code",
      "source": [
        "example_gen = tfx.components.CsvExampleGen(input_base=_data_root)\n",
        "context.run(example_gen)"
      ],
      "metadata": {
        "id": "OIr9pGDAqDIs"
      },
      "execution_count": null,
      "outputs": []
    },
    {
      "cell_type": "markdown",
      "source": [
        "Let's examine the output artifacts of `ExampleGen`. This component produces two artifacts, training examples and evaluation examples:"
      ],
      "metadata": {
        "id": "aMc1sQifqFl1"
      }
    },
    {
      "cell_type": "code",
      "source": [
        "artifact = example_gen.outputs['examples'].get()[0]\n",
        "print(artifact.split_names, artifact.uri)"
      ],
      "metadata": {
        "colab": {
          "base_uri": "https://localhost:8080/"
        },
        "id": "7I5EDnoXqHaI",
        "outputId": "449178bc-0df7-4e91-a03f-f451b6019288"
      },
      "execution_count": null,
      "outputs": [
        {
          "output_type": "stream",
          "name": "stdout",
          "text": [
            "[\"train\", \"eval\"] /tmp/tfx-interactive-2022-01-09T07_22_58.217523-d5ysx84l/CsvExampleGen/examples/1\n"
          ]
        }
      ]
    },
    {
      "cell_type": "markdown",
      "source": [
        "We can also take a look at the first three training examples:"
      ],
      "metadata": {
        "id": "AmRsLAPDqH8z"
      }
    },
    {
      "cell_type": "code",
      "source": [
        "# Get the URI of the output artifact representing the training examples, which is a directory\n",
        "train_uri = os.path.join(example_gen.outputs['examples'].get()[0].uri, 'Split-train')\n",
        "\n",
        "# Get the list of files in this directory (all compressed TFRecord files)\n",
        "tfrecord_filenames = [os.path.join(train_uri, name)\n",
        "                      for name in os.listdir(train_uri)]\n",
        "\n",
        "# Create a `TFRecordDataset` to read these files\n",
        "dataset = tf.data.TFRecordDataset(tfrecord_filenames, compression_type=\"GZIP\")\n",
        "\n",
        "# Iterate over the first 3 records and decode them.\n",
        "for tfrecord in dataset.take(3):\n",
        "  serialized_example = tfrecord.numpy()\n",
        "  example = tf.train.Example()\n",
        "  example.ParseFromString(serialized_example)\n",
        "  pp.pprint(example)"
      ],
      "metadata": {
        "colab": {
          "base_uri": "https://localhost:8080/"
        },
        "id": "ar_s1cjEqKCp",
        "outputId": "0c785a02-d9dd-4177-c465-152699a488f0"
      },
      "execution_count": null,
      "outputs": [
        {
          "output_type": "stream",
          "name": "stdout",
          "text": [
            "features {\n",
            "  feature {\n",
            "    key: \"company\"\n",
            "    value {\n",
            "      bytes_list {\n",
            "        value: \"Chicago Elite Cab Corp. (Chicago Carriag\"\n",
            "      }\n",
            "    }\n",
            "  }\n",
            "  feature {\n",
            "    key: \"dropoff_census_tract\"\n",
            "    value {\n",
            "      int64_list {\n",
            "      }\n",
            "    }\n",
            "  }\n",
            "  feature {\n",
            "    key: \"dropoff_community_area\"\n",
            "    value {\n",
            "      int64_list {\n",
            "      }\n",
            "    }\n",
            "  }\n",
            "  feature {\n",
            "    key: \"dropoff_latitude\"\n",
            "    value {\n",
            "      float_list {\n",
            "      }\n",
            "    }\n",
            "  }\n",
            "  feature {\n",
            "    key: \"dropoff_longitude\"\n",
            "    value {\n",
            "      float_list {\n",
            "      }\n",
            "    }\n",
            "  }\n",
            "  feature {\n",
            "    key: \"fare\"\n",
            "    value {\n",
            "      float_list {\n",
            "        value: 12.449999809265137\n",
            "      }\n",
            "    }\n",
            "  }\n",
            "  feature {\n",
            "    key: \"payment_type\"\n",
            "    value {\n",
            "      bytes_list {\n",
            "        value: \"Credit Card\"\n",
            "      }\n",
            "    }\n",
            "  }\n",
            "  feature {\n",
            "    key: \"pickup_census_tract\"\n",
            "    value {\n",
            "      int64_list {\n",
            "      }\n",
            "    }\n",
            "  }\n",
            "  feature {\n",
            "    key: \"pickup_community_area\"\n",
            "    value {\n",
            "      int64_list {\n",
            "      }\n",
            "    }\n",
            "  }\n",
            "  feature {\n",
            "    key: \"pickup_latitude\"\n",
            "    value {\n",
            "      float_list {\n",
            "      }\n",
            "    }\n",
            "  }\n",
            "  feature {\n",
            "    key: \"pickup_longitude\"\n",
            "    value {\n",
            "      float_list {\n",
            "      }\n",
            "    }\n",
            "  }\n",
            "  feature {\n",
            "    key: \"tips\"\n",
            "    value {\n",
            "      float_list {\n",
            "        value: 0.0\n",
            "      }\n",
            "    }\n",
            "  }\n",
            "  feature {\n",
            "    key: \"trip_miles\"\n",
            "    value {\n",
            "      float_list {\n",
            "        value: 0.0\n",
            "      }\n",
            "    }\n",
            "  }\n",
            "  feature {\n",
            "    key: \"trip_seconds\"\n",
            "    value {\n",
            "      int64_list {\n",
            "        value: 0\n",
            "      }\n",
            "    }\n",
            "  }\n",
            "  feature {\n",
            "    key: \"trip_start_day\"\n",
            "    value {\n",
            "      int64_list {\n",
            "        value: 6\n",
            "      }\n",
            "    }\n",
            "  }\n",
            "  feature {\n",
            "    key: \"trip_start_hour\"\n",
            "    value {\n",
            "      int64_list {\n",
            "        value: 19\n",
            "      }\n",
            "    }\n",
            "  }\n",
            "  feature {\n",
            "    key: \"trip_start_month\"\n",
            "    value {\n",
            "      int64_list {\n",
            "        value: 5\n",
            "      }\n",
            "    }\n",
            "  }\n",
            "  feature {\n",
            "    key: \"trip_start_timestamp\"\n",
            "    value {\n",
            "      int64_list {\n",
            "        value: 1400269500\n",
            "      }\n",
            "    }\n",
            "  }\n",
            "}\n",
            "\n",
            "features {\n",
            "  feature {\n",
            "    key: \"company\"\n",
            "    value {\n",
            "      bytes_list {\n",
            "        value: \"Taxi Affiliation Services\"\n",
            "      }\n",
            "    }\n",
            "  }\n",
            "  feature {\n",
            "    key: \"dropoff_census_tract\"\n",
            "    value {\n",
            "      int64_list {\n",
            "      }\n",
            "    }\n",
            "  }\n",
            "  feature {\n",
            "    key: \"dropoff_community_area\"\n",
            "    value {\n",
            "      int64_list {\n",
            "      }\n",
            "    }\n",
            "  }\n",
            "  feature {\n",
            "    key: \"dropoff_latitude\"\n",
            "    value {\n",
            "      float_list {\n",
            "      }\n",
            "    }\n",
            "  }\n",
            "  feature {\n",
            "    key: \"dropoff_longitude\"\n",
            "    value {\n",
            "      float_list {\n",
            "      }\n",
            "    }\n",
            "  }\n",
            "  feature {\n",
            "    key: \"fare\"\n",
            "    value {\n",
            "      float_list {\n",
            "        value: 27.049999237060547\n",
            "      }\n",
            "    }\n",
            "  }\n",
            "  feature {\n",
            "    key: \"payment_type\"\n",
            "    value {\n",
            "      bytes_list {\n",
            "        value: \"Cash\"\n",
            "      }\n",
            "    }\n",
            "  }\n",
            "  feature {\n",
            "    key: \"pickup_census_tract\"\n",
            "    value {\n",
            "      int64_list {\n",
            "      }\n",
            "    }\n",
            "  }\n",
            "  feature {\n",
            "    key: \"pickup_community_area\"\n",
            "    value {\n",
            "      int64_list {\n",
            "        value: 60\n",
            "      }\n",
            "    }\n",
            "  }\n",
            "  feature {\n",
            "    key: \"pickup_latitude\"\n",
            "    value {\n",
            "      float_list {\n",
            "        value: 41.836151123046875\n",
            "      }\n",
            "    }\n",
            "  }\n",
            "  feature {\n",
            "    key: \"pickup_longitude\"\n",
            "    value {\n",
            "      float_list {\n",
            "        value: -87.64878845214844\n",
            "      }\n",
            "    }\n",
            "  }\n",
            "  feature {\n",
            "    key: \"tips\"\n",
            "    value {\n",
            "      float_list {\n",
            "        value: 0.0\n",
            "      }\n",
            "    }\n",
            "  }\n",
            "  feature {\n",
            "    key: \"trip_miles\"\n",
            "    value {\n",
            "      float_list {\n",
            "        value: 12.600000381469727\n",
            "      }\n",
            "    }\n",
            "  }\n",
            "  feature {\n",
            "    key: \"trip_seconds\"\n",
            "    value {\n",
            "      int64_list {\n",
            "        value: 1380\n",
            "      }\n",
            "    }\n",
            "  }\n",
            "  feature {\n",
            "    key: \"trip_start_day\"\n",
            "    value {\n",
            "      int64_list {\n",
            "        value: 3\n",
            "      }\n",
            "    }\n",
            "  }\n",
            "  feature {\n",
            "    key: \"trip_start_hour\"\n",
            "    value {\n",
            "      int64_list {\n",
            "        value: 2\n",
            "      }\n",
            "    }\n",
            "  }\n",
            "  feature {\n",
            "    key: \"trip_start_month\"\n",
            "    value {\n",
            "      int64_list {\n",
            "        value: 10\n",
            "      }\n",
            "    }\n",
            "  }\n",
            "  feature {\n",
            "    key: \"trip_start_timestamp\"\n",
            "    value {\n",
            "      int64_list {\n",
            "        value: 1380593700\n",
            "      }\n",
            "    }\n",
            "  }\n",
            "}\n",
            "\n",
            "features {\n",
            "  feature {\n",
            "    key: \"company\"\n",
            "    value {\n",
            "      bytes_list {\n",
            "      }\n",
            "    }\n",
            "  }\n",
            "  feature {\n",
            "    key: \"dropoff_census_tract\"\n",
            "    value {\n",
            "      int64_list {\n",
            "      }\n",
            "    }\n",
            "  }\n",
            "  feature {\n",
            "    key: \"dropoff_community_area\"\n",
            "    value {\n",
            "      int64_list {\n",
            "      }\n",
            "    }\n",
            "  }\n",
            "  feature {\n",
            "    key: \"dropoff_latitude\"\n",
            "    value {\n",
            "      float_list {\n",
            "      }\n",
            "    }\n",
            "  }\n",
            "  feature {\n",
            "    key: \"dropoff_longitude\"\n",
            "    value {\n",
            "      float_list {\n",
            "      }\n",
            "    }\n",
            "  }\n",
            "  feature {\n",
            "    key: \"fare\"\n",
            "    value {\n",
            "      float_list {\n",
            "        value: 16.450000762939453\n",
            "      }\n",
            "    }\n",
            "  }\n",
            "  feature {\n",
            "    key: \"payment_type\"\n",
            "    value {\n",
            "      bytes_list {\n",
            "        value: \"Cash\"\n",
            "      }\n",
            "    }\n",
            "  }\n",
            "  feature {\n",
            "    key: \"pickup_census_tract\"\n",
            "    value {\n",
            "      int64_list {\n",
            "      }\n",
            "    }\n",
            "  }\n",
            "  feature {\n",
            "    key: \"pickup_community_area\"\n",
            "    value {\n",
            "      int64_list {\n",
            "        value: 13\n",
            "      }\n",
            "    }\n",
            "  }\n",
            "  feature {\n",
            "    key: \"pickup_latitude\"\n",
            "    value {\n",
            "      float_list {\n",
            "        value: 41.98363494873047\n",
            "      }\n",
            "    }\n",
            "  }\n",
            "  feature {\n",
            "    key: \"pickup_longitude\"\n",
            "    value {\n",
            "      float_list {\n",
            "        value: -87.72357940673828\n",
            "      }\n",
            "    }\n",
            "  }\n",
            "  feature {\n",
            "    key: \"tips\"\n",
            "    value {\n",
            "      float_list {\n",
            "        value: 0.0\n",
            "      }\n",
            "    }\n",
            "  }\n",
            "  feature {\n",
            "    key: \"trip_miles\"\n",
            "    value {\n",
            "      float_list {\n",
            "        value: 6.900000095367432\n",
            "      }\n",
            "    }\n",
            "  }\n",
            "  feature {\n",
            "    key: \"trip_seconds\"\n",
            "    value {\n",
            "      int64_list {\n",
            "        value: 780\n",
            "      }\n",
            "    }\n",
            "  }\n",
            "  feature {\n",
            "    key: \"trip_start_day\"\n",
            "    value {\n",
            "      int64_list {\n",
            "        value: 3\n",
            "      }\n",
            "    }\n",
            "  }\n",
            "  feature {\n",
            "    key: \"trip_start_hour\"\n",
            "    value {\n",
            "      int64_list {\n",
            "        value: 12\n",
            "      }\n",
            "    }\n",
            "  }\n",
            "  feature {\n",
            "    key: \"trip_start_month\"\n",
            "    value {\n",
            "      int64_list {\n",
            "        value: 11\n",
            "      }\n",
            "    }\n",
            "  }\n",
            "  feature {\n",
            "    key: \"trip_start_timestamp\"\n",
            "    value {\n",
            "      int64_list {\n",
            "        value: 1446554700\n",
            "      }\n",
            "    }\n",
            "  }\n",
            "}\n",
            "\n"
          ]
        }
      ]
    },
    {
      "cell_type": "markdown",
      "source": [
        "Now that `ExampleGen` has finished ingesting the data, the next step is data analysis"
      ],
      "metadata": {
        "id": "zrbG4TkfqPoG"
      }
    }
  ]
}